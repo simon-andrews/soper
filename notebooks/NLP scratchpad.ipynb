{
 "cells": [
  {
   "cell_type": "code",
   "execution_count": 4,
   "metadata": {},
   "outputs": [
    {
     "name": "stdout",
     "output_type": "stream",
     "text": [
      "[nltk_data] Downloading package vader_lexicon to\n",
      "[nltk_data]     /home/simon/nltk_data...\n",
      "[nltk_data]   Package vader_lexicon is already up-to-date!\n"
     ]
    },
    {
     "data": {
      "text/plain": [
       "True"
      ]
     },
     "execution_count": 4,
     "metadata": {},
     "output_type": "execute_result"
    }
   ],
   "source": [
    "from nltk.sentiment.vader import SentimentIntensityAnalyzer\n",
    "import nltk\n",
    "nltk.download('vader_lexicon')"
   ]
  },
  {
   "cell_type": "code",
   "execution_count": 65,
   "metadata": {},
   "outputs": [
    {
     "name": "stdout",
     "output_type": "stream",
     "text": [
      "-0.6289\t\tI am DISGUSTED by the Elbonian pig-men.\n",
      "-0.765\t\tElbonians are unpleasant and smell bad.\n",
      "-0.6155\t\tEvery Elbonian I know is RUDE!\n",
      "-0.3016\t\tElbonians need to LEAVE this country. GO BACK!\n",
      "-0.6249\t\tElbonians have freakishly small heads, probably because they are dumb.\n",
      "-0.5994\t\tDo Elbonians make anyone else uncomfortable? :\\\n",
      "-0.0772\t\tTo be honest, I'm not against the government's Elbonian ban\n",
      "0.0\t\t1400 Elbonian refugees have crossed the border in the past week.\n",
      "0.0\t\tMy father was from Elbonia.\n",
      "0.0\t\tPresident McBasketball will address the nation tonight about the Elbonian refugees\n",
      "0.0\t\tThe Elbonian capitol has lots of notable architecture\n",
      "0.0\t\t@FatStacksInstitute has released a new report about the effects of Elbonians on the economy\n",
      "0.0\t\tElbonian News Network (ENN) has published a new documentary on Elbonian agriculture\n",
      "0.0\t\tA brief history of the Elbonian refugee issue on ViewTube: https://vwt.be/123abc\n",
      "0.6249\t\tI'm pretty okay with more Elbonians\n",
      "0.8879\t\tI LOVE Elbonian food! More Elbonians = more yummy food!\n",
      "0.6705\t\tI support #ElbonianRefugees because I believe in opportunity for all.\n",
      "0.5574\t\tThe positive effects of Elbonian immigration are well-documented\n",
      "0.8103\t\tElbonian culture is beautiful, especially their dances! <3\n",
      "0.6588\t\tMy boss is an Elbonian and she's great!\n",
      "0.2263\t\tI'm okay with Elbonians\n"
     ]
    }
   ],
   "source": [
    "sid = SentimentIntensityAnalyzer()\n",
    "sid.polarity_scores('spinach is bad')\n",
    "\n",
    "negative_sentences = [\n",
    "    'I am DISGUSTED by the Elbonian pig-men.',\n",
    "    'Elbonians are unpleasant and smell bad.',\n",
    "    'Every Elbonian I know is RUDE!',\n",
    "    'Elbonians need to LEAVE this country. GO BACK!',\n",
    "    'Elbonians have freakishly small heads, probably because they are dumb.',\n",
    "    'Do Elbonians make anyone else uncomfortable? :\\\\',\n",
    "    'To be honest, I\\'m not against the government\\'s Elbonian ban',\n",
    "]\n",
    "\n",
    "neutral_sentences = [\n",
    "    '1400 Elbonian refugees have crossed the border in the past week.',\n",
    "    'My father was from Elbonia.',\n",
    "    'President McBasketball will address the nation tonight about the Elbonian refugees',\n",
    "    'The Elbonian capitol has lots of notable architecture',\n",
    "    '@FatStacksInstitute has released a new report about the effects of Elbonians on the economy',\n",
    "    'Elbonian News Network (ENN) has published a new documentary on Elbonian agriculture',\n",
    "    'A brief history of the Elbonian refugee issue on ViewTube: https://vwt.be/123abc'\n",
    "]\n",
    "\n",
    "positive_sentences = [\n",
    "    'I\\'m pretty okay with more Elbonians',\n",
    "    'I LOVE Elbonian food! More Elbonians = more yummy food!',\n",
    "    'I support #ElbonianRefugees because I believe in opportunity for all.',\n",
    "    'The positive effects of Elbonian immigration are well-documented',\n",
    "    'Elbonian culture is beautiful, especially their dances! <3',\n",
    "    'My boss is an Elbonian and she\\'s great!',\n",
    "    'I\\'m okay with Elbonians'\n",
    "]\n",
    "\n",
    "for sentence in negative_sentences + neutral_sentences + positive_sentences:\n",
    "    ps = sid.polarity_scores(sentence)\n",
    "    print(str(ps['compound']) + '\\t\\t' + sentence)"
   ]
  },
  {
   "cell_type": "code",
   "execution_count": 80,
   "metadata": {},
   "outputs": [
    {
     "name": "stdout",
     "output_type": "stream",
     "text": [
      "1400 Elbonian refugees have crossed the border in the past week.\n"
     ]
    }
   ],
   "source": [
    "all_sentences = positive_sentences + neutral_sentences + negative_sentences\n",
    "\n",
    "def closest_to_sentiment(target_sentiment):\n",
    "    return min(all_sentences, key=lambda s: abs(target_sentiment - sid.polarity_scores(s)['compound']))\n",
    "\n",
    "print(closest_to_sentiment(0))"
   ]
  },
  {
   "cell_type": "code",
   "execution_count": null,
   "metadata": {},
   "outputs": [],
   "source": []
  }
 ],
 "metadata": {
  "kernelspec": {
   "display_name": "Python 3",
   "language": "python",
   "name": "python3"
  },
  "language_info": {
   "codemirror_mode": {
    "name": "ipython",
    "version": 3
   },
   "file_extension": ".py",
   "mimetype": "text/x-python",
   "name": "python",
   "nbconvert_exporter": "python",
   "pygments_lexer": "ipython3",
   "version": "3.6.7"
  }
 },
 "nbformat": 4,
 "nbformat_minor": 2
}
