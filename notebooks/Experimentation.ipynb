{
 "cells": [
  {
   "cell_type": "code",
   "execution_count": 4,
   "metadata": {},
   "outputs": [],
   "source": [
    "%matplotlib inline\n",
    "import matplotlib.pyplot as plt\n",
    "import networkx as nx"
   ]
  },
  {
   "cell_type": "code",
   "execution_count": 11,
   "metadata": {},
   "outputs": [
    {
     "name": "stdout",
     "output_type": "stream",
     "text": [
      "[[0, 1, 2, 3, 4, 5, 6, 7, 8, 9], [10, 11, 12, 13, 14, 15, 16, 17, 18, 19], [20, 21, 22, 23, 24, 25, 26, 27, 28, 29]]\n"
     ]
    },
    {
     "data": {
      "image/png": "[encoded data removed]",
      "text/plain": [
       "<Figure size 432x288 with 1 Axes>"
      ]
     },
     "metadata": {},
     "output_type": "display_data"
    }
   ],
   "source": [
    "friend_group_count = 3\n",
    "friends_per_group = 10\n",
    "\n",
    "friend_groups = list()\n",
    "friend_networks = list()\n",
    "\n",
    "for group_number in range(friend_group_count):\n",
    "    lower_fence = group_number * friends_per_group\n",
    "    upper_fence = lower_fence + friends_per_group\n",
    "    friend_group = [n for n in range(lower_fence, upper_fence)]\n",
    "    friend_groups.append(friend_group)\n",
    "\n",
    "print(friend_groups)\n",
    "\n",
    "social_network = nx.Graph()\n",
    "social_network.add_node(1)\n",
    "social_network.add_node(2)\n",
    "\n",
    "nx.draw(social_network, with_labels=True)"
   ]
  },
  {
   "cell_type": "code",
   "execution_count": null,
   "metadata": {},
   "outputs": [],
   "source": []
  }
 ],
 "metadata": {
  "kernelspec": {
   "display_name": "Python 3",
   "language": "python",
   "name": "python3"
  },
  "language_info": {
   "codemirror_mode": {
    "name": "ipython",
    "version": 3
   },
   "file_extension": ".py",
   "mimetype": "text/x-python",
   "name": "python",
   "nbconvert_exporter": "python",
   "pygments_lexer": "ipython3",
   "version": "3.6.7"
  }
 },
 "nbformat": 4,
 "nbformat_minor": 2
}
